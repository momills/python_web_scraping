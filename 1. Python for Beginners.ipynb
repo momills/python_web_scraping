{
 "cells": [
  {
   "cell_type": "markdown",
   "metadata": {},
   "source": [
    "# Session1: Python for Beginners"
   ]
  },
  {
   "cell_type": "markdown",
   "metadata": {},
   "source": [
    "## Python Basics"
   ]
  },
  {
   "cell_type": "markdown",
   "metadata": {},
   "source": [
    "    Everything in Python is an object. Objects have attributes and methods. \n",
    "Real life example: a car as an object, has attributes such as color, make, year of manufacture, transmission mode etc., and methods such as accelerating, reverse, braking."
   ]
  },
  {
   "cell_type": "markdown",
   "metadata": {},
   "source": [
    "### Python Data Types and Variables\n",
    "- Strings\n",
    "- Integers\n",
    "- Floats\n",
    "- Booleans & Logicals\n",
    "- Variables\n",
    "- Lists & Arrays*   ``` [1,2,3]```  ```array([1,2,3])```\n",
    "- Dictionaries*    ```{'name':['Michael','Joseph'], 'phone':[12323, 342121]}```\n",
    "- Tuple*   ```('Your_name', 1234242312, '12 street, james town')```\n",
    "- Set*     ```set([1,2,3])``` or ```{1,2,3}```\n",
    "- \"Built-in Methods\"\n",
    "- None\n",
    "\n",
    "    *FYI"
   ]
  },
  {
   "cell_type": "code",
   "execution_count": null,
   "metadata": {},
   "outputs": [],
   "source": []
  },
  {
   "cell_type": "markdown",
   "metadata": {},
   "source": [
    "#### STRINGS   ```str()```\n",
    "To represent a text and defined with \"double\" or 'single' quotes\n",
    "\n",
    "```\"Python for Beginners\"```\n",
    "```'Python for Beginners'```\n",
    "```'2019'```"
   ]
  },
  {
   "cell_type": "markdown",
   "metadata": {},
   "source": [
    "#### Built-in Methods for Strings\n",
    "``` type(\"python\")\n",
    "int('2019')\n",
    "len(\"python\")\n",
    "'python'.capitalize()\n",
    "\"python is fun\".count('n')\n",
    "\"python is fun\".split()\n",
    "\"PYTHON\".lower()\n",
    "'python'.index('o')```"
   ]
  },
  {
   "cell_type": "code",
   "execution_count": null,
   "metadata": {},
   "outputs": [],
   "source": []
  },
  {
   "cell_type": "markdown",
   "metadata": {},
   "source": [
    "#### INTEGERS   ```int()```\n",
    "To represent integers and can do standard arithmetics.\n",
    "    \n",
    "``` \n",
    "10\n",
    "-24\n",
    "2019```"
   ]
  },
  {
   "cell_type": "markdown",
   "metadata": {},
   "source": [
    "#### Built-in Methods for Integers\n",
    "    type(10)\n",
    "    abs(-24)\n",
    "    min(10, -24, 2019)\n",
    "    max(10, -24, 2019)\n",
    "    float(10)"
   ]
  },
  {
   "cell_type": "code",
   "execution_count": null,
   "metadata": {},
   "outputs": [],
   "source": []
  },
  {
   "cell_type": "markdown",
   "metadata": {},
   "source": [
    "#### Arithmetic Operators\n",
    "    1 + 2    => 3  (Addition)\n",
    "    1 - 2    => -1 (Subtraction)\n",
    "    2 * 4    => 8  (Multiplication)\n",
    "    5 / 2    => 2.5(Division)\n",
    "    5 // 2   => 2  (Floor division)\n",
    "    5 % 2    => 1  (Modulus)\n",
    "    2 ** 3   => 8  (Exponent)"
   ]
  },
  {
   "cell_type": "code",
   "execution_count": null,
   "metadata": {},
   "outputs": [],
   "source": []
  },
  {
   "cell_type": "markdown",
   "metadata": {},
   "source": [
    "#### FLOATS   ```float()```\n",
    "To represent decimal numbers and can do standard arithmetics.\n",
    "\n",
    "    10.23132\n",
    "    -24.1\n",
    "    2019.0"
   ]
  },
  {
   "cell_type": "markdown",
   "metadata": {},
   "source": [
    "#### Built-in Methods for Floats\n",
    "    all built-functions for integers\n",
    "    round(10.23132, 2)\n",
    "    math.floor(10.23132)   # first import math package\n",
    "    math.ceil(-24.1)\n",
    "    math.ceil(24.1)\n",
    "    math.factorial(5)"
   ]
  },
  {
   "cell_type": "code",
   "execution_count": null,
   "metadata": {},
   "outputs": [],
   "source": []
  },
  {
   "cell_type": "markdown",
   "metadata": {},
   "source": [
    "#### Arithmetic Operators\n",
    "    all arithmetic operators for integers"
   ]
  },
  {
   "cell_type": "code",
   "execution_count": null,
   "metadata": {},
   "outputs": [],
   "source": []
  },
  {
   "cell_type": "markdown",
   "metadata": {},
   "source": [
    "#### BOOLEANS & LOGICALS   ```bool()```\n",
    "Booleans represent something that is True or False\n",
    "\n",
    "```True``` ```False```\n",
    "    \n",
    "Comparison Operators always yield Boolean values\n",
    "\n",
    "```==``` (different from assignment operator```=```),\n",
    "```!=``` ,```>``` or ```>=``` ,```<``` or ```<=```\n",
    "     \n",
    "Logicals include:\n",
    "```or``` ```and``` ```not```"
   ]
  },
  {
   "cell_type": "code",
   "execution_count": null,
   "metadata": {},
   "outputs": [],
   "source": []
  },
  {
   "cell_type": "markdown",
   "metadata": {},
   "source": [
    "### VARIABLES\n",
    "- Allows you to store values to reuse later\n",
    "- You assign a value to a variable\n",
    "- Variables can be overwritten and incremented\n",
    "- By convention, variable names should be in snake_case\n",
    "\n",
    "Variable assignment statement\n",
    "\n",
    "```first_name = \"John\"```\n",
    "       \n",
    "```age = 29```\n",
    "    \n",
    "(almost) Constant assignment statement\n",
    "\n",
    "```NUMBER_OF_DAYS_IN_A_WEEK = 7```"
   ]
  },
  {
   "cell_type": "markdown",
   "metadata": {},
   "source": [
    "```import keyword\n",
    "print(keyword.kwlist)``` #returns keyword list in python"
   ]
  },
  {
   "cell_type": "markdown",
   "metadata": {},
   "source": [
    "## String Concatenation\n",
    "\n",
    "```first_name = \"John\"\n",
    "last_name = 'Lennon'```\n",
    "    \n",
    "```full_name = first_name + last_name```"
   ]
  },
  {
   "cell_type": "code",
   "execution_count": null,
   "metadata": {},
   "outputs": [],
   "source": []
  },
  {
   "cell_type": "markdown",
   "metadata": {},
   "source": [
    "## Conditionals\n",
    "\n",
    "```if condition:\n",
    "       statemnt```\n",
    "    \n",
    "```if condition:\n",
    "      statement\n",
    "   else:\n",
    "      statement```\n",
    "        \n",
    "```if condition 1:\n",
    "      statement 1\n",
    "   elif condition 2:\n",
    "       statement 2\n",
    "         ...\n",
    "         ...\n",
    "         ...\n",
    "   (else:\n",
    "          statement n)```          # optional"
   ]
  },
  {
   "cell_type": "code",
   "execution_count": null,
   "metadata": {},
   "outputs": [],
   "source": []
  },
  {
   "cell_type": "markdown",
   "metadata": {},
   "source": [
    "## Loops\n",
    "\n",
    "```while condition:   \n",
    "         statement``` # usually loops so long as condition is true\n",
    "           \n",
    "```for __ in __        \n",
    "         statement``` # usually loops finite times  \n"
   ]
  },
  {
   "cell_type": "code",
   "execution_count": null,
   "metadata": {},
   "outputs": [],
   "source": []
  },
  {
   "cell_type": "markdown",
   "metadata": {},
   "source": [
    "## Input / Output   input()    print()\n",
    "\n",
    "```a = input()\n",
    "a = input(\"what is your name? \")\n",
    "print(\"wo ai zhongguo\")```"
   ]
  },
  {
   "cell_type": "code",
   "execution_count": null,
   "metadata": {},
   "outputs": [],
   "source": []
  },
  {
   "cell_type": "markdown",
   "metadata": {},
   "source": [
    "# CHALLENGES"
   ]
  },
  {
   "cell_type": "markdown",
   "metadata": {},
   "source": [
    "## 1. Microwave Oven\n",
    "Specs:\n",
    "- Implement a microwave oven program that asks user what kind of food does he/she wants to heat.\n",
    "- If the user wants to heat up noodles, send a message to the customer that ”I am heating up noodles”\n",
    "- If the user wants to heat up rice, send a message to the customer that ”I am heating up rice”\n",
    "\n",
    ">Eg. =>Which kind of food do you want to heat up?        noodles\n",
    "\n",
    ">I am heating up noodles!\n"
   ]
  },
  {
   "cell_type": "code",
   "execution_count": null,
   "metadata": {},
   "outputs": [],
   "source": []
  },
  {
   "cell_type": "code",
   "execution_count": null,
   "metadata": {},
   "outputs": [],
   "source": []
  },
  {
   "cell_type": "markdown",
   "metadata": {},
   "source": [
    "## 2. Super Microwave Oven\n",
    "Specs:\n",
    "- If the customer wants to heat up noodles, tell him/her this is going to cost 2 seconds.\n",
    "- If the customer wants to heat up rice, tell him/her this is going to cost 5 seconds.\n",
    "- Until the food is ready, send a message to the customer that the food is ready.\n",
    "\n",
    "> Eg.\n",
    ">=>Which kind of food do you want to heat, noodles/rice? noodles\n",
    "\n",
    ">This is going to cost 2 seconds….\n",
    "\n",
    "> noodles are ready!!"
   ]
  },
  {
   "cell_type": "markdown",
   "metadata": {},
   "source": [
    "### HINT:\n",
    "\n",
    "```import time\n",
    "time.sleep(n)```                # forces the running of the code to delay/sleep for n seconds"
   ]
  },
  {
   "cell_type": "code",
   "execution_count": null,
   "metadata": {
    "scrolled": true
   },
   "outputs": [],
   "source": []
  },
  {
   "cell_type": "code",
   "execution_count": null,
   "metadata": {},
   "outputs": [],
   "source": []
  },
  {
   "cell_type": "markdown",
   "metadata": {},
   "source": [
    "## 3. Microwave Oven PRO\n",
    "Specs:\n",
    "- Ask the user which food he/she wants to heat and for how long?\n",
    "- Then count the time to tell the user how much time spent.\n",
    "- Once down, tell the user food is ready!\n",
    "\n",
    ">Eg.\n",
    "=>Which one do you want to heat, noodles/rice?   noodles\n",
    "\n",
    ">how many seconds does it take?    5\n",
    "\n",
    "    Cooking…\n",
    "    0\n",
    "    1\n",
    "    2\n",
    "    3\n",
    "    4\n",
    "    5\n",
    "    Your food is ready! \n"
   ]
  },
  {
   "cell_type": "markdown",
   "metadata": {},
   "source": [
    "### HINT:\n",
    "\n",
    "```import time\n",
    "time.sleep(n)```                # forces the running of the code to delay/sleep for n seconds"
   ]
  },
  {
   "cell_type": "code",
   "execution_count": null,
   "metadata": {},
   "outputs": [],
   "source": []
  },
  {
   "cell_type": "code",
   "execution_count": null,
   "metadata": {},
   "outputs": [],
   "source": []
  },
  {
   "cell_type": "markdown",
   "metadata": {},
   "source": [
    "## MISC"
   ]
  },
  {
   "cell_type": "markdown",
   "metadata": {},
   "source": [
    "Create a function that grabs the email website domain from a string in the form:\n",
    "\n",
    "    user@domain.com\n",
    "    \n",
    "*So for example, passing \"user@domain.com\" would return: domain.com*"
   ]
  },
  {
   "cell_type": "code",
   "execution_count": 1,
   "metadata": {},
   "outputs": [],
   "source": [
    "# Write your function here\n",
    "\n"
   ]
  },
  {
   "cell_type": "code",
   "execution_count": 6,
   "metadata": {},
   "outputs": [],
   "source": [
    "#test your function here\n",
    "grab_domain('user@domain.com')"
   ]
  },
  {
   "cell_type": "markdown",
   "metadata": {},
   "source": [
    "Create a function that counts the number of times the word \"me\" occurs in a string. Ignore edge cases.\n",
    "\n",
    "*So for example, passing \"me myself and I said me why not\" would return: 2*"
   ]
  },
  {
   "cell_type": "code",
   "execution_count": null,
   "metadata": {},
   "outputs": [],
   "source": [
    "# Write your function here\n",
    "\n",
    "\n"
   ]
  },
  {
   "cell_type": "code",
   "execution_count": null,
   "metadata": {},
   "outputs": [],
   "source": [
    "#test your function\n",
    "grab_me(\"me myself and I said me why not\")"
   ]
  },
  {
   "cell_type": "markdown",
   "metadata": {},
   "source": [
    "Given the variables:\n",
    "\n",
    "    planet = \"Earth\"\n",
    "    diameter = 12742\n",
    "\n",
    "*Use ```.format()``` to print the following string:*\n",
    "\n",
    "    The diameter of Earth is 12742 kilometers."
   ]
  },
  {
   "cell_type": "code",
   "execution_count": null,
   "metadata": {},
   "outputs": [],
   "source": []
  },
  {
   "cell_type": "markdown",
   "metadata": {},
   "source": [
    "Write a basic function that returns True if the word 'dog' is contained in the input string. Don't worry about edge cases like a punctuation being attached to the word dog, but do account for capitalization.\n",
    "\n",
    "*So for example, passing \"snoopdog is here\" would return: True*"
   ]
  },
  {
   "cell_type": "code",
   "execution_count": 3,
   "metadata": {},
   "outputs": [],
   "source": [
    "# Write your function here\n",
    "\n"
   ]
  },
  {
   "cell_type": "code",
   "execution_count": 5,
   "metadata": {
    "scrolled": true
   },
   "outputs": [],
   "source": [
    "#test your function\n",
    "dog_in(\"snoopdog is here\")"
   ]
  },
  {
   "cell_type": "code",
   "execution_count": null,
   "metadata": {},
   "outputs": [],
   "source": []
  }
 ],
 "metadata": {
  "kernelspec": {
   "display_name": "Python 3",
   "language": "python",
   "name": "python3"
  },
  "language_info": {
   "codemirror_mode": {
    "name": "ipython",
    "version": 3
   },
   "file_extension": ".py",
   "mimetype": "text/x-python",
   "name": "python",
   "nbconvert_exporter": "python",
   "pygments_lexer": "ipython3",
   "version": "3.8.5"
  }
 },
 "nbformat": 4,
 "nbformat_minor": 2
}
