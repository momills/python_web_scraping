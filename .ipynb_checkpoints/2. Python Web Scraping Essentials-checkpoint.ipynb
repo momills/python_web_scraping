{
 "cells": [
  {
   "cell_type": "markdown",
   "metadata": {},
   "source": [
    "## Recap: Session 1: Python for Beginners"
   ]
  },
  {
   "cell_type": "markdown",
   "metadata": {},
   "source": [
    "    Everything in Python is an object. Objects have attributes and methods. \n",
    "Real life example: a car as an object, has attributes such as color, make, year of manufacture, transmission mode etc., and methods such as accelerating, reverse, braking."
   ]
  },
  {
   "cell_type": "markdown",
   "metadata": {},
   "source": [
    "### Key areas\n",
    "- Strings\n",
    "- Integers\n",
    "- Floats\n",
    "- Booleans & Logicals\n",
    "- Variables\n",
    "- Lists & Arrays*   ``` [1,2,3]```  ```array([1,2,3])```\n",
    "- Dictionaries*    ```{'name':['Michael','Joseph'], 'phone':[12323, 342121]}```\n",
    "- Tuple*   ```('Your_name', 1234242312, '12 street, james town')```\n",
    "- Set*     ```set([1,2,3])``` or ```{1,2,3}```\n",
    "- \"Built-in Methods\"\n",
    "- None\n",
    "- Logicals and Booleans\n",
    "- Conditionals\n",
    "- Loops\n",
    "- Input keyword\n",
    "\n",
    "    *FYI"
   ]
  },
  {
   "cell_type": "code",
   "execution_count": null,
   "metadata": {},
   "outputs": [],
   "source": []
  },
  {
   "cell_type": "code",
   "execution_count": null,
   "metadata": {},
   "outputs": [],
   "source": []
  },
  {
   "cell_type": "markdown",
   "metadata": {},
   "source": [
    "# CHALLENGES"
   ]
  },
  {
   "cell_type": "markdown",
   "metadata": {},
   "source": [
    "## 1. Microwave Oven\n",
    "Specs:\n",
    "- Implement a microwave oven program that asks user what kind of food does he/she wants to heat.\n",
    "- If the user wants to heat up noodles, send a message to the customer that ”I am heating up noodles”\n",
    "- If the user wants to heat up rice, send a message to the customer that ”I am heating up rice”\n",
    "\n",
    ">Eg. =>Which kind of food do you want to heat up?        noodles\n",
    "\n",
    ">I am heating up noodles!\n"
   ]
  },
  {
   "cell_type": "code",
   "execution_count": null,
   "metadata": {},
   "outputs": [],
   "source": []
  },
  {
   "cell_type": "markdown",
   "metadata": {},
   "source": [
    "\n",
    "<details>\n",
    "  <summary>Sample solution!</summary>\n",
    "  \n",
    "```python\n",
    "    food = input(\"what kind of food do you want to heat: \")\n",
    "    print(\"I am heating up \" + food) \n",
    "```\n",
    "</details>\n"
   ]
  },
  {
   "cell_type": "code",
   "execution_count": null,
   "metadata": {},
   "outputs": [],
   "source": []
  },
  {
   "cell_type": "markdown",
   "metadata": {},
   "source": [
    "## 2. Super Microwave Oven\n",
    "Specs:\n",
    "- If the customer wants to heat up noodles, tell him/her this is going to cost 2 seconds.\n",
    "- If the customer wants to heat up rice, tell him/her this is going to cost 5 seconds.\n",
    "- Until the food is ready, send a message to the customer that the food is ready.\n",
    "\n",
    "> Eg.\n",
    ">=>Which kind of food do you want to heat, noodles/rice? noodles\n",
    "\n",
    ">This is going to cost 2 seconds….\n",
    "\n",
    "> noodles are ready!!"
   ]
  },
  {
   "cell_type": "markdown",
   "metadata": {},
   "source": [
    "### HINT:\n",
    "\n",
    "```import time\n",
    "time.sleep(n)```                # forces the running of the code to delay/sleep for n seconds"
   ]
  },
  {
   "cell_type": "code",
   "execution_count": null,
   "metadata": {},
   "outputs": [],
   "source": []
  },
  {
   "cell_type": "markdown",
   "metadata": {},
   "source": [
    "<details>\n",
    "  <summary>Sample solution!</summary>\n",
    "\n",
    "```python\n",
    "import time\n",
    "\n",
    "food = input(\"Which kind of food do you want to heat, noodles/rice? \")\n",
    "if food == \"noodles\":\n",
    "    print(\"This is going to cost 2 seconds\")\n",
    "    time.sleep(2)\n",
    "    print(food + \" is ready!\")\n",
    "elif food == \"rice\":\n",
    "    print(\"This is going to cost 5 seconds\")\n",
    "    time.sleep(5)\n",
    "    print(food + \" is ready!\")\n",
    "else:\n",
    "    print(food + \" is not available\")\n",
    "```\n",
    "    \n",
    "</details>\n",
    "    "
   ]
  },
  {
   "cell_type": "code",
   "execution_count": null,
   "metadata": {},
   "outputs": [],
   "source": []
  },
  {
   "cell_type": "markdown",
   "metadata": {},
   "source": [
    "## 3. Microwave Oven PRO\n",
    "Specs:\n",
    "- Ask the user which food he/she wants to heat and for how long?\n",
    "- Then count the time to tell the user how much time spent.\n",
    "- Once down, tell the user food is ready!\n",
    "\n",
    ">Eg.\n",
    "=>Which one do you want to heat, noodles/rice?   noodles\n",
    "\n",
    ">how many seconds does it take?    5\n",
    "\n",
    "    Cooking…\n",
    "    0\n",
    "    1\n",
    "    2\n",
    "    3\n",
    "    4\n",
    "    5\n",
    "    Your food is ready! \n"
   ]
  },
  {
   "cell_type": "markdown",
   "metadata": {},
   "source": [
    "### HINT:\n",
    "\n",
    "```import time\n",
    "time.sleep(n)```                # forces the running of the code to delay/sleep for n seconds"
   ]
  },
  {
   "cell_type": "code",
   "execution_count": null,
   "metadata": {},
   "outputs": [],
   "source": []
  },
  {
   "cell_type": "markdown",
   "metadata": {},
   "source": [
    "\n",
    "<details>\n",
    "  <summary>Sample solution!</summary>\n",
    "\n",
    "```python\n",
    "import time\n",
    "\n",
    "food = input(\"Which kind of food do you want to heat, noodles/rice? \")\n",
    "timer = int(input(\"How long do you want to heat it? \"))\n",
    "if food == \"noodles\":\n",
    "    print(\"heating...\")\n",
    "    for i in range(timer):\n",
    "        time.sleep(1)\n",
    "        print(i)\n",
    "    print(food + \" is ready!\")\n",
    "elif food == \"rice\":\n",
    "    print(\"heating...\")\n",
    "    for i in range(timer):\n",
    "        time.sleep(1)\n",
    "        print(i)\n",
    "    print(food + \" is ready!\")\n",
    "```\n",
    "</details>"
   ]
  },
  {
   "cell_type": "markdown",
   "metadata": {},
   "source": [
    "\n",
    "<details>\n",
    "  <summary>Improved sample solution!</summary>\n",
    "\n",
    "```python\n",
    "import time\n",
    "\n",
    "food = input(\"Which kind of food do you want to heat, noodles/rice? \")\n",
    "timer = int(input(\"How long do you want to heat it? \"))\n",
    "print(\"heating...\")\n",
    "for i in range(timer):\n",
    "    time.sleep(1)\n",
    "    print(i)\n",
    "print(food + \" is ready!\")\n",
    "```\n",
    "</details>"
   ]
  },
  {
   "cell_type": "markdown",
   "metadata": {},
   "source": [
    "## MISC"
   ]
  },
  {
   "cell_type": "markdown",
   "metadata": {},
   "source": [
    "# Session 2: Python Web Scraping Essentials"
   ]
  },
  {
   "cell_type": "code",
   "execution_count": null,
   "metadata": {},
   "outputs": [],
   "source": []
  }
 ],
 "metadata": {
  "kernelspec": {
   "display_name": "Python 3",
   "language": "python",
   "name": "python3"
  },
  "language_info": {
   "codemirror_mode": {
    "name": "ipython",
    "version": 3
   },
   "file_extension": ".py",
   "mimetype": "text/x-python",
   "name": "python",
   "nbconvert_exporter": "python",
   "pygments_lexer": "ipython3",
   "version": "3.8.5"
  }
 },
 "nbformat": 4,
 "nbformat_minor": 2
}
